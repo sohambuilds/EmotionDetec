{
 "cells": [
  {
   "cell_type": "code",
   "execution_count": 30,
   "id": "ff8d8cb1-2e14-4d77-a7dc-195d70d014d3",
   "metadata": {},
   "outputs": [],
   "source": [
    "\n",
    "import keras\n",
    "from keras.utils import to_categorical\n",
    "from keras.utils import load_img, img_to_array\n",
    "from keras.layers import Dense, Input, Dropout, GlobalAveragePooling2D, Flatten,Conv2D, BatchNormalization,Activation,MaxPooling2D\n",
    "from keras.models import Model, Sequential\n",
    "from keras.optimizers import Adam,SGD,RMSprop\n",
    "import os"
   ]
  },
  {
   "cell_type": "code",
   "execution_count": 32,
   "id": "80e04575-2ea5-4dc7-a252-9926df1491dc",
   "metadata": {},
   "outputs": [],
   "source": [
    "import opendatasets as od"
   ]
  },
  {
   "cell_type": "code",
   "execution_count": 34,
   "id": "fbae6ef2-2a8a-4ac0-8ca0-28453f62570e",
   "metadata": {},
   "outputs": [],
   "source": [
    "dataset = \"https://www.kaggle.com/datasets/msambare/fer2013\""
   ]
  },
  {
   "cell_type": "code",
   "execution_count": 36,
   "id": "b03c38cd-02d0-4e81-8d64-de0cef3bfb69",
   "metadata": {},
   "outputs": [],
   "source": [
    "import numpy as np\n",
    "import pandas as pd\n",
    "import os\n",
    "from keras.preprocessing.image import load_img, img_to_array\n",
    "from keras.utils import to_categorical\n",
    "from sklearn.preprocessing import LabelEncoder\n",
    "from tqdm import tqdm\n",
    "import networkx as nx\n"
   ]
  },
  {
   "cell_type": "code",
   "execution_count": 38,
   "id": "977bbe32-b3a2-4846-b890-e2e0c0ca8b6d",
   "metadata": {},
   "outputs": [],
   "source": [
    "def create_adjacency_matrix(image, num_nodes=64):\n",
    "    h, w = image.shape[:2]\n",
    "    points = np.random.rand(num_nodes, 2)\n",
    "    points[:, 0] *= w\n",
    "    points[:, 1] *= h\n",
    "    \n",
    "    G = nx.Graph()\n",
    "    G.add_nodes_from(range(num_nodes))\n",
    "    \n",
    "    # Connect each point to its k nearest neighbors\n",
    "    k = 5\n",
    "    for i, point in enumerate(points):\n",
    "        distances = [np.linalg.norm(point - other_point) for other_point in points]\n",
    "        nearest = np.argsort(distances)[1:k+1]  # Exclude self\n",
    "        for j in nearest:\n",
    "            G.add_edge(i, j)\n",
    "    \n",
    "    return nx.adjacency_matrix(G).toarray()"
   ]
  },
  {
   "cell_type": "code",
   "execution_count": 40,
   "id": "55d5991e-b72d-4289-9876-73a79f7a2a58",
   "metadata": {},
   "outputs": [],
   "source": [
    "def preprocess_image(image_path):\n",
    "    img = load_img(image_path, target_size=(224, 224), color_mode=\"rgb\")\n",
    "    img_array = img_to_array(img)\n",
    "    img_array = img_array / 255.0  # Normalize\n",
    "    return img_array\n",
    "\n",
    "def extract_features(images):\n",
    "    features = []\n",
    "    for image in tqdm(images):\n",
    "        img = preprocess_image(image)\n",
    "        features.append(img)\n",
    "    return np.array(features)"
   ]
  },
  {
   "cell_type": "code",
   "execution_count": 42,
   "id": "6c4c0bb7-2681-45cb-8170-09fdfb5cf049",
   "metadata": {},
   "outputs": [],
   "source": [
    "def prepare_graph_data(images):\n",
    "    adjacency_matrices = []\n",
    "    for image in tqdm(images):\n",
    "        img = preprocess_image(image)\n",
    "        adj_matrix = create_adjacency_matrix(img)\n",
    "        adjacency_matrices.append(adj_matrix)\n",
    "    return np.array(adjacency_matrices)"
   ]
  },
  {
   "cell_type": "code",
   "execution_count": null,
   "id": "2d64a81e-9f4a-4c0a-a203-78c29f8b3580",
   "metadata": {},
   "outputs": [
    {
     "name": "stdout",
     "output_type": "stream",
     "text": [
      "disgust done\n",
      "happy done\n",
      "fear done\n",
      "sad done\n",
      "surprise done\n",
      "neutral done\n",
      "angry done\n",
      "disgust done\n",
      "happy done\n",
      "fear done\n",
      "sad done\n",
      "surprise done\n",
      "neutral done\n",
      "angry done\n"
     ]
    },
    {
     "name": "stderr",
     "output_type": "stream",
     "text": [
      "100%|██████████████████████████████████████████████████████████████████████████████████████████████████████████████████████████████████████████████████████████████████████| 28709/28709 [00:10<00:00, 2667.88it/s]\n",
      "100%|████████████████████████████████████████████████████████████████████████████████████████████████████████████████████████████████████████████████████████████████████████| 7178/7178 [00:01<00:00, 4771.89it/s]\n",
      " 83%|███████████████████████████████████████████████████████████████████████████████████████████████████████████████████████████████████████████▎                           | 23939/28709 [02:45<00:32, 145.49it/s]"
     ]
    }
   ],
   "source": [
    "def prepare_data(train_dir, test_dir):\n",
    "    # Create dataframes\n",
    "    def create_dataframe(dir):\n",
    "        image_paths = []\n",
    "        labels = []\n",
    "        for label in os.listdir(dir):\n",
    "            for imagename in os.listdir(os.path.join(dir,label)):\n",
    "                image_paths.append(os.path.join(dir,label,imagename))\n",
    "                labels.append(label)\n",
    "            print(label,'done')\n",
    "        return pd.DataFrame({'image': image_paths, 'label': labels})\n",
    "\n",
    "    train_df = create_dataframe(train_dir)\n",
    "    test_df = create_dataframe(test_dir)\n",
    "\n",
    "    # Extract features\n",
    "    x_train = extract_features(train_df['image'])\n",
    "    x_test = extract_features(test_df['image'])\n",
    "\n",
    "    # Prepare graph data\n",
    "    A_train = prepare_graph_data(train_df['image'])\n",
    "    A_test = prepare_graph_data(test_df['image'])\n",
    "\n",
    "    # Encode labels\n",
    "    le = LabelEncoder()\n",
    "    le.fit(train_df['label'])\n",
    "    y_train = le.transform(train_df['label'])\n",
    "    y_test = le.transform(test_df['label'])\n",
    "\n",
    "    # Convert to categorical\n",
    "    y_train = to_categorical(y_train)\n",
    "    y_test = to_categorical(y_test)\n",
    "\n",
    "    return x_train, A_train, y_train, x_test, A_test, y_test, le.classes_\n",
    "\n",
    "# Usage\n",
    "x_train, A_train, y_train, x_test, A_test, y_test, class_names = prepare_data('Data/train', 'Data/test')"
   ]
  },
  {
   "cell_type": "code",
   "execution_count": null,
   "id": "15268da3-8d34-4029-aab6-610957210c45",
   "metadata": {},
   "outputs": [],
   "source": [
    "import tensorflow as tf\n"
   ]
  },
  {
   "cell_type": "code",
   "execution_count": null,
   "id": "b8c8f8e2-cae2-4078-ab88-1e43e39da88a",
   "metadata": {},
   "outputs": [],
   "source": [
    "class DataGenerator(tf.keras.utils.Sequence):\n",
    "    def __init__(self, x_set, y_set, a_set, batch_size=32, shuffle=True, classes=None):\n",
    "        self.x, self.y, self.a = x_set, y_set, a_set\n",
    "        self.classes = classes\n",
    "        self.batch_size = batch_size\n",
    "        self.shuffle = shuffle\n",
    "        self.on_epoch_end()\n",
    "\n",
    "    def __len__(self):\n",
    "        return int(np.floor(len(self.x) / self.batch_size))\n",
    "\n",
    "    def __getitem__(self, index):\n",
    "        indexes = self.indexes[index * self.batch_size:(index + 1) * self.batch_size]\n",
    "        x_batch = self.x[indexes]\n",
    "        y_batch = self.y[indexes]\n",
    "        a_batch = self.a[indexes]\n",
    "\n",
    "        # Ensure that the return type is a tuple of tensors\n",
    "        return (tf.convert_to_tensor(x_batch), tf.convert_to_tensor(a_batch)), tf.convert_to_tensor(y_batch)\n",
    "\n",
    "    def on_epoch_end(self):\n",
    "        self.indexes = np.arange(len(self.x))\n",
    "        if self.shuffle:\n",
    "            np.random.shuffle(self.indexes)"
   ]
  },
  {
   "cell_type": "code",
   "execution_count": null,
   "id": "cde74c83-bfa4-40ae-a28f-b06924f2e527",
   "metadata": {},
   "outputs": [],
   "source": [
    "\n",
    "train_generator = DataGenerator(x_train, y_train, A_train, batch_size=32)\n",
    "test_generator = DataGenerator(x_test, y_test, A_test, batch_size=32, shuffle=False)"
   ]
  },
  {
   "cell_type": "code",
   "execution_count": null,
   "id": "27ce54d3-d1d0-400d-8ef7-7621ef925748",
   "metadata": {},
   "outputs": [],
   "source": [
    "import matplotlib.pyplot as plt\n",
    "from sklearn.metrics import confusion_matrix\n",
    "# Displaying the model performance\n",
    "def model_performance(history, Epochs):\n",
    "    # Define needed variables\n",
    "    tr_acc = history.history['accuracy']\n",
    "    tr_loss = history.history['loss']\n",
    "    val_acc = history.history['val_accuracy']\n",
    "    val_loss = history.history['val_loss']\n",
    "    \n",
    "    Epochs = [i+1 for i in range(len(tr_acc))]\n",
    "    \n",
    "    # Plot training history\n",
    "    plt.figure(figsize= (20, 8))\n",
    "    plt.style.use('fivethirtyeight')\n",
    "    \n",
    "    plt.subplot(1, 2, 1)\n",
    "    plt.plot(Epochs, tr_loss, 'r', label= 'Training loss')\n",
    "    plt.plot(Epochs, val_loss, 'g', label= 'Validation loss')\n",
    "    plt.title('Training and Validation Loss')\n",
    "    plt.xlabel('Epochs')\n",
    "    plt.ylabel('Loss')\n",
    "    plt.legend()\n",
    "    \n",
    "    plt.subplot(1, 2, 2)\n",
    "    plt.plot(Epochs, tr_acc, 'r', label= 'Training Accuracy')\n",
    "    plt.plot(Epochs, val_acc, 'g', label= 'Validation Accuracy')\n",
    "    plt.title('Training and Validation Accuracy')\n",
    "    plt.xlabel('Epochs')\n",
    "    plt.ylabel('Accuracy')\n",
    "    plt.legend()\n",
    "    \n",
    "    plt.tight_layout\n",
    "    plt.show()\n",
    "    \n",
    "\n",
    "def model_evaluation(model, train_generator, test_generator):  # Add generators as arguments\n",
    "    train_score = model.evaluate(train_generator, verbose=1)\n",
    "    test_score = model.evaluate(test_generator, verbose=1)  # Use test_generator\n",
    "\n",
    "    print(\"Train Loss: \", train_score[0])\n",
    "    print(\"Train Accuracy: \", train_score[1])\n",
    "    print('-' * 20)\n",
    "    print(\"Test Loss: \", test_score[0])\n",
    "    print(\"Test Accuracy: \", test_score[1])\n",
    "    \n",
    "\n",
    "# Get Predictions\n",
    "def get_pred(model, test_gen):\n",
    "    \n",
    "    preds = model.predict(test_gen)\n",
    "    y_pred = np.argmax(preds, axis = 1)\n",
    "    \n",
    "    return y_pred\n",
    "\n",
    "\n",
    "# Confusion Matrix\n",
    "def plot_confusion_matrix(test_gen, y_pred, class_names):\n",
    "    # Create class indices dictionary\n",
    "    class_indices = {class_name: i for i, class_name in enumerate(class_names)}\n",
    "    \n",
    "    g_dict = test_gen.class_indices\n",
    "    classes = list(class_indices.keys())\n",
    "    \n",
    "    # Display the confusion matrix\n",
    "    cm = confusion_matrix(test_gen.classes, y_pred)\n",
    "\n",
    "    plt.figure(figsize= (10, 10))\n",
    "    plt.imshow(cm, interpolation= 'nearest', cmap= plt.cm.Blues)\n",
    "    plt.title('Confusion Matrix')\n",
    "    plt.colorbar()\n",
    "    \n",
    "    tick_marks = np.arange(len(classes))\n",
    "    plt.xticks(tick_marks, classes, rotation= 45)\n",
    "    plt.yticks(tick_marks, classes)\n",
    "    \n",
    "    thresh = cm.max() / 2.\n",
    "    for i, j in itertools.product(range(cm.shape[0]), range(cm.shape[1])):\n",
    "        plt.text(j, i, cm[i, j], horizontalalignment= 'center', color= 'white' if cm[i, j] > thresh else 'black')\n",
    "    \n",
    "    \n",
    "    plt.tight_layout()\n",
    "    plt.ylabel('True Label')\n",
    "    plt.xlabel('Predicted Label')\n",
    "    \n",
    "    plt.show()\n",
    "    "
   ]
  },
  {
   "cell_type": "code",
   "execution_count": null,
   "id": "1b5f5359-aa36-4e66-8c1e-27814379bf7a",
   "metadata": {},
   "outputs": [],
   "source": [
    "from tensorflow.keras.models import Model\n",
    "from tensorflow.keras.layers import Conv2D, BatchNormalization, MaxPooling2D, Flatten, Dense, Add, Concatenate, Input, Dropout, Reshape\n",
    "from tensorflow.keras.layers import Layer\n",
    "\n",
    "class GraphConvLayer(Layer):\n",
    "    def __init__(self, output_dim, activation=None, **kwargs):\n",
    "        self.output_dim = output_dim\n",
    "        self.activation = tf.keras.activations.get(activation)\n",
    "        super(GraphConvLayer, self).__init__(**kwargs)\n",
    "\n",
    "    def build(self, input_shape):\n",
    "        self.kernel = self.add_weight(name='kernel',\n",
    "                                      shape=(input_shape[0][-1], self.output_dim),\n",
    "                                      initializer='glorot_uniform',\n",
    "                                      trainable=True)\n",
    "        super(GraphConvLayer, self).build(input_shape)\n",
    "\n",
    "    def call(self, inputs):\n",
    "        X, A = inputs\n",
    "        output = tf.matmul(A, X)\n",
    "        output = tf.matmul(output, self.kernel)\n",
    "        if self.activation is not None:\n",
    "            output = self.activation(output)\n",
    "        return output\n",
    "\n",
    "    def compute_output_shape(self, input_shape):\n",
    "        return (input_shape[0][0], input_shape[0][1], self.output_dim)\n",
    "\n",
    "def residual_block(x, filters):\n",
    "    y = Conv2D(filters, kernel_size=(3, 3), padding=\"same\", activation=\"relu\")(x)\n",
    "    y = BatchNormalization()(y)\n",
    "    y = Conv2D(filters, kernel_size=(3, 3), padding=\"same\", activation=\"relu\")(y)\n",
    "    y = BatchNormalization()(y)\n",
    "    residual = Conv2D(filters, kernel_size=(1, 1), padding=\"same\")(x)  \n",
    "    y = Add()([residual, y])\n",
    "    y = MaxPooling2D()(y) \n",
    "    return y\n",
    "\n",
    "def inception_module(x, filters):\n",
    "    branch1x1 = Conv2D(filters, (1, 1), padding='same', activation='relu')(x)\n",
    "    \n",
    "    branch3x3 = Conv2D(filters, (1, 1), padding='same', activation='relu')(x)\n",
    "    branch3x3 = Conv2D(filters, (3, 3), padding='same', activation='relu')(branch3x3)\n",
    "    \n",
    "    branch5x5 = Conv2D(filters, (1, 1), padding='same', activation='relu')(x)\n",
    "    branch5x5 = Conv2D(filters, (5, 5), padding='same', activation='relu')(branch5x5)\n",
    "    \n",
    "    branch_pool = MaxPooling2D((3, 3), strides=(1, 1), padding='same')(x)\n",
    "    branch_pool = Conv2D(filters, (1, 1), padding='same', activation='relu')(branch_pool)\n",
    "    \n",
    "    outputs = [branch1x1, branch3x3, branch5x5, branch_pool]\n",
    "    return Concatenate(axis=-1)(outputs)\n",
    "\n",
    "def dense_block(x, units, dropout_rate):\n",
    "    x = Dense(units, activation=\"relu\")(x)\n",
    "    x = Dropout(dropout_rate)(x)\n",
    "    return x\n",
    "\n",
    "# Define number of nodes in the graph and number of classes\n",
    "num_nodes = 64  \n",
    "class_counts = 7\n",
    "\n",
    "input_layer = Input(shape=(224, 224, 3)) \n",
    "x = Conv2D(filters=32, kernel_size=(3, 3), padding=\"same\", activation=\"relu\")(input_layer)\n",
    "x = BatchNormalization()(x)\n",
    "x = MaxPooling2D()(x)\n",
    "\n",
    "# Residual blocks\n",
    "x = residual_block(x, 32)\n",
    "x = residual_block(x, 64)\n",
    "x = residual_block(x, 128)\n",
    "x = residual_block(x, 256)\n",
    "x = residual_block(x, 512)\n",
    "\n",
    "# Inception modules\n",
    "x = inception_module(x, 256)\n",
    "x = inception_module(x, 128)\n",
    "x = inception_module(x, 64)\n",
    "\n",
    "# Additional convolutional layers\n",
    "x = Conv2D(filters=512, kernel_size=(3, 3), padding=\"same\", activation=\"relu\")(x)\n",
    "x = BatchNormalization()(x)\n",
    "x = MaxPooling2D()(x)\n",
    "\n",
    "# Flatten layer\n",
    "x = Flatten()(x)\n",
    "\n",
    "# Define adjacency matrix placeholder\n",
    "A = Input(shape=(num_nodes, num_nodes))\n",
    "\n",
    "# Reshape x to match the number of nodes\n",
    "x_reshaped = Dense(num_nodes)(x)\n",
    "x_reshaped = Reshape((num_nodes, -1))(x_reshaped)\n",
    "\n",
    "# GCN Layer 1\n",
    "gcn_output = GraphConvLayer(output_dim=64, activation='relu')([x_reshaped, A])\n",
    "\n",
    "# GCN Layer 2\n",
    "gcn_output = GraphConvLayer(output_dim=32, activation='relu')([gcn_output, A])\n",
    "\n",
    "# Flatten GCN output\n",
    "gcn_output_flatten = Flatten()(gcn_output)\n",
    "\n",
    "concatenated_output = Concatenate()([x, gcn_output_flatten])\n",
    "\n",
    "# Dense layers\n",
    "x = dense_block(concatenated_output, 512, 0.5) \n",
    "x = dense_block(x, 256, 0.3)   \n",
    "x = dense_block(x, 128, 0.2)   \n",
    "\n",
    "# Output layer\n",
    "output_layer = Dense(class_counts, activation=\"softmax\")(x)\n",
    "\n",
    "# Create model\n",
    "cnn_gcn_model = Model(inputs=[input_layer, A], outputs=output_layer)\n",
    "\n",
    "# Compile the model\n",
    "cnn_gcn_model.compile(\n",
    "    optimizer=tf.keras.optimizers.Adam(learning_rate=0.001),\n",
    "    loss=tf.keras.losses.CategoricalCrossentropy(),\n",
    "    metrics=[tf.keras.metrics.CategoricalAccuracy(name='accuracy')]\n",
    ")\n",
    "\n",
    "# Print model summary\n",
    "cnn_gcn_model.summary()"
   ]
  },
  {
   "cell_type": "code",
   "execution_count": 43,
   "id": "22dba54c-3dd4-4a76-9428-48fe77a0ce3c",
   "metadata": {
    "scrolled": true
   },
   "outputs": [
    {
     "name": "stdout",
     "output_type": "stream",
     "text": [
      "Epoch 1/100\n"
     ]
    },
    {
     "name": "stderr",
     "output_type": "stream",
     "text": [
      "/home/respailab/anaconda3/lib/python3.12/site-packages/keras/src/trainers/data_adapters/py_dataset_adapter.py:121: UserWarning: Your `PyDataset` class should call `super().__init__(**kwargs)` in its constructor. `**kwargs` can include `workers`, `use_multiprocessing`, `max_queue_size`. Do not pass these arguments to `fit()`, as they will be ignored.\n",
      "  self._warn_if_super_not_called()\n",
      "WARNING: All log messages before absl::InitializeLog() is called are written to STDERR\n",
      "I0000 00:00:1723396862.752210 1243196 service.cc:146] XLA service 0x770f180183f0 initialized for platform CUDA (this does not guarantee that XLA will be used). Devices:\n",
      "I0000 00:00:1723396862.752246 1243196 service.cc:154]   StreamExecutor device (0): NVIDIA RTX A6000, Compute Capability 8.6\n",
      "I0000 00:00:1723396862.752249 1243196 service.cc:154]   StreamExecutor device (1): NVIDIA RTX A6000, Compute Capability 8.6\n",
      "I0000 00:00:1723396862.752250 1243196 service.cc:154]   StreamExecutor device (2): NVIDIA RTX A6000, Compute Capability 8.6\n",
      "2024-08-11 22:51:02.934436: I tensorflow/compiler/mlir/tensorflow/utils/dump_mlir_util.cc:268] disabling MLIR crash reproducer, set env var `MLIR_CRASH_REPRODUCER_DIRECTORY` to enable.\n",
      "2024-08-11 22:51:03.837662: I external/local_xla/xla/stream_executor/cuda/cuda_dnn.cc:531] Loaded cuDNN version 8907\n",
      "2024-08-11 22:51:04.456095: W external/local_xla/xla/service/gpu/nvptx_compiler.cc:762] The NVIDIA driver's CUDA version is 12.2 which is older than the ptxas CUDA version (12.3.107). Because the driver is older than the ptxas version, XLA is disabling parallel compilation, which may slow down compilation. You should update your NVIDIA driver or use the NVIDIA-provided CUDA forward compatibility packages.\n"
     ]
    },
    {
     "name": "stdout",
     "output_type": "stream",
     "text": [
      "\u001b[1m  5/225\u001b[0m \u001b[37m━━━━━━━━━━━━━━━━━━━━\u001b[0m \u001b[1m7s\u001b[0m 34ms/step - accuracy: 0.1776 - loss: 4.0862   "
     ]
    },
    {
     "name": "stderr",
     "output_type": "stream",
     "text": [
      "I0000 00:00:1723396872.627057 1243196 device_compiler.h:188] Compiled cluster using XLA!  This line is logged at most once for the lifetime of the process.\n"
     ]
    },
    {
     "name": "stdout",
     "output_type": "stream",
     "text": [
      "\u001b[1m225/225\u001b[0m \u001b[32m━━━━━━━━━━━━━━━━━━━━\u001b[0m\u001b[37m\u001b[0m \u001b[1m30s\u001b[0m 60ms/step - accuracy: 0.1898 - loss: 2.2318 - val_accuracy: 0.1984 - val_loss: 1.8876\n",
      "Epoch 2/100\n",
      "\u001b[1m225/225\u001b[0m \u001b[32m━━━━━━━━━━━━━━━━━━━━\u001b[0m\u001b[37m\u001b[0m \u001b[1m11s\u001b[0m 48ms/step - accuracy: 0.2356 - loss: 1.8269 - val_accuracy: 0.2476 - val_loss: 1.8106\n",
      "Epoch 3/100\n",
      "\u001b[1m225/225\u001b[0m \u001b[32m━━━━━━━━━━━━━━━━━━━━\u001b[0m\u001b[37m\u001b[0m \u001b[1m11s\u001b[0m 50ms/step - accuracy: 0.2528 - loss: 1.8036 - val_accuracy: 0.2483 - val_loss: 1.8060\n",
      "Epoch 4/100\n",
      "\u001b[1m221/225\u001b[0m \u001b[32m━━━━━━━━━━━━━━━━━━━\u001b[0m\u001b[37m━\u001b[0m \u001b[1m0s\u001b[0m 33ms/step - accuracy: 0.3003 - loss: 1.7247"
     ]
    },
    {
     "name": "stderr",
     "output_type": "stream",
     "text": [
      "2024-08-11 22:51:55.491117: I tensorflow/core/framework/local_rendezvous.cc:404] Local rendezvous is aborting with status: OUT_OF_RANGE: End of sequence\n",
      "\t [[{{node IteratorGetNext}}]]\n",
      "2024-08-11 22:51:55.491342: I tensorflow/core/framework/local_rendezvous.cc:404] Local rendezvous is aborting with status: OUT_OF_RANGE: End of sequence\n",
      "\t [[{{node IteratorGetNext}}]]\n",
      "\t [[IteratorGetNext/_2]]\n",
      "/home/respailab/anaconda3/lib/python3.12/contextlib.py:158: UserWarning: Your input ran out of data; interrupting training. Make sure that your dataset or generator can generate at least `steps_per_epoch * epochs` batches. You may need to use the `.repeat()` function when building your dataset.\n",
      "  self.gen.throw(value)\n"
     ]
    },
    {
     "name": "stdout",
     "output_type": "stream",
     "text": [
      "\u001b[1m225/225\u001b[0m \u001b[32m━━━━━━━━━━━━━━━━━━━━\u001b[0m\u001b[37m\u001b[0m \u001b[1m11s\u001b[0m 50ms/step - accuracy: 0.3004 - loss: 1.7245 - val_accuracy: 0.2475 - val_loss: 1.9077\n",
      "Epoch 5/100\n",
      "\u001b[1m225/225\u001b[0m \u001b[32m━━━━━━━━━━━━━━━━━━━━\u001b[0m\u001b[37m\u001b[0m \u001b[1m11s\u001b[0m 48ms/step - accuracy: 0.3211 - loss: 1.6903 - val_accuracy: 0.3218 - val_loss: 1.6394\n",
      "Epoch 6/100\n",
      "\u001b[1m225/225\u001b[0m \u001b[32m━━━━━━━━━━━━━━━━━━━━\u001b[0m\u001b[37m\u001b[0m \u001b[1m10s\u001b[0m 46ms/step - accuracy: 0.3368 - loss: 1.6438 - val_accuracy: 0.3188 - val_loss: 1.6102\n",
      "Epoch 7/100\n",
      "\u001b[1m225/225\u001b[0m \u001b[32m━━━━━━━━━━━━━━━━━━━━\u001b[0m\u001b[37m\u001b[0m \u001b[1m10s\u001b[0m 47ms/step - accuracy: 0.3584 - loss: 1.5741 - val_accuracy: 0.2856 - val_loss: 1.7187\n",
      "Epoch 8/100\n",
      "\u001b[1m221/225\u001b[0m \u001b[32m━━━━━━━━━━━━━━━━━━━\u001b[0m\u001b[37m━\u001b[0m \u001b[1m0s\u001b[0m 32ms/step - accuracy: 0.4011 - loss: 1.5028"
     ]
    },
    {
     "name": "stderr",
     "output_type": "stream",
     "text": [
      "2024-08-11 22:52:38.330384: I tensorflow/core/framework/local_rendezvous.cc:404] Local rendezvous is aborting with status: OUT_OF_RANGE: End of sequence\n",
      "\t [[{{node IteratorGetNext}}]]\n",
      "\t [[IteratorGetNext/_2]]\n"
     ]
    },
    {
     "name": "stdout",
     "output_type": "stream",
     "text": [
      "\u001b[1m225/225\u001b[0m \u001b[32m━━━━━━━━━━━━━━━━━━━━\u001b[0m\u001b[37m\u001b[0m \u001b[1m10s\u001b[0m 46ms/step - accuracy: 0.4009 - loss: 1.5030 - val_accuracy: 0.2987 - val_loss: 1.6996\n",
      "Epoch 9/100\n",
      "\u001b[1m225/225\u001b[0m \u001b[32m━━━━━━━━━━━━━━━━━━━━\u001b[0m\u001b[37m\u001b[0m \u001b[1m11s\u001b[0m 49ms/step - accuracy: 0.4000 - loss: 1.4874 - val_accuracy: 0.4182 - val_loss: 1.4775\n",
      "Epoch 10/100\n",
      "\u001b[1m225/225\u001b[0m \u001b[32m━━━━━━━━━━━━━━━━━━━━\u001b[0m\u001b[37m\u001b[0m \u001b[1m11s\u001b[0m 47ms/step - accuracy: 0.4193 - loss: 1.4428 - val_accuracy: 0.4273 - val_loss: 1.4196\n",
      "Epoch 11/100\n",
      "\u001b[1m225/225\u001b[0m \u001b[32m━━━━━━━━━━━━━━━━━━━━\u001b[0m\u001b[37m\u001b[0m \u001b[1m11s\u001b[0m 48ms/step - accuracy: 0.4364 - loss: 1.4059 - val_accuracy: 0.3746 - val_loss: 1.5703\n",
      "Epoch 12/100\n",
      "\u001b[1m225/225\u001b[0m \u001b[32m━━━━━━━━━━━━━━━━━━━━\u001b[0m\u001b[37m\u001b[0m \u001b[1m11s\u001b[0m 47ms/step - accuracy: 0.4490 - loss: 1.4035 - val_accuracy: 0.4219 - val_loss: 1.4435\n",
      "Epoch 13/100\n",
      "\u001b[1m225/225\u001b[0m \u001b[32m━━━━━━━━━━━━━━━━━━━━\u001b[0m\u001b[37m\u001b[0m \u001b[1m11s\u001b[0m 47ms/step - accuracy: 0.4450 - loss: 1.3708 - val_accuracy: 0.2896 - val_loss: 1.7300\n",
      "Epoch 14/100\n",
      "\u001b[1m225/225\u001b[0m \u001b[32m━━━━━━━━━━━━━━━━━━━━\u001b[0m\u001b[37m\u001b[0m \u001b[1m11s\u001b[0m 47ms/step - accuracy: 0.4725 - loss: 1.3187 - val_accuracy: 0.3891 - val_loss: 1.5791\n",
      "Epoch 15/100\n",
      "\u001b[1m225/225\u001b[0m \u001b[32m━━━━━━━━━━━━━━━━━━━━\u001b[0m\u001b[37m\u001b[0m \u001b[1m11s\u001b[0m 47ms/step - accuracy: 0.4543 - loss: 1.3473 - val_accuracy: 0.4542 - val_loss: 1.3495\n",
      "Epoch 16/100\n",
      "\u001b[1m221/225\u001b[0m \u001b[32m━━━━━━━━━━━━━━━━━━━\u001b[0m\u001b[37m━\u001b[0m \u001b[1m0s\u001b[0m 32ms/step - accuracy: 0.4657 - loss: 1.3010"
     ]
    },
    {
     "name": "stderr",
     "output_type": "stream",
     "text": [
      "2024-08-11 22:54:03.543022: I tensorflow/core/framework/local_rendezvous.cc:404] Local rendezvous is aborting with status: OUT_OF_RANGE: End of sequence\n",
      "\t [[{{node IteratorGetNext}}]]\n",
      "\t [[IteratorGetNext/_2]]\n"
     ]
    },
    {
     "name": "stdout",
     "output_type": "stream",
     "text": [
      "\u001b[1m225/225\u001b[0m \u001b[32m━━━━━━━━━━━━━━━━━━━━\u001b[0m\u001b[37m\u001b[0m \u001b[1m10s\u001b[0m 45ms/step - accuracy: 0.4659 - loss: 1.3009 - val_accuracy: 0.4248 - val_loss: 1.4881\n",
      "Epoch 17/100\n",
      "\u001b[1m225/225\u001b[0m \u001b[32m━━━━━━━━━━━━━━━━━━━━\u001b[0m\u001b[37m\u001b[0m \u001b[1m11s\u001b[0m 47ms/step - accuracy: 0.4949 - loss: 1.2582 - val_accuracy: 0.4461 - val_loss: 1.3992\n",
      "Epoch 18/100\n",
      "\u001b[1m225/225\u001b[0m \u001b[32m━━━━━━━━━━━━━━━━━━━━\u001b[0m\u001b[37m\u001b[0m \u001b[1m11s\u001b[0m 47ms/step - accuracy: 0.4857 - loss: 1.2716 - val_accuracy: 0.4484 - val_loss: 1.4836\n",
      "Epoch 19/100\n",
      "\u001b[1m225/225\u001b[0m \u001b[32m━━━━━━━━━━━━━━━━━━━━\u001b[0m\u001b[37m\u001b[0m \u001b[1m11s\u001b[0m 47ms/step - accuracy: 0.5126 - loss: 1.2524 - val_accuracy: 0.4343 - val_loss: 1.4538\n",
      "Epoch 20/100\n",
      "\u001b[1m221/225\u001b[0m \u001b[32m━━━━━━━━━━━━━━━━━━━\u001b[0m\u001b[37m━\u001b[0m \u001b[1m0s\u001b[0m 33ms/step - accuracy: 0.5104 - loss: 1.2510"
     ]
    },
    {
     "name": "stderr",
     "output_type": "stream",
     "text": [
      "2024-08-11 22:54:45.527263: I tensorflow/core/framework/local_rendezvous.cc:423] Local rendezvous recv item cancelled. Key hash: 4848502781483569787\n",
      "2024-08-11 22:54:45.527357: I tensorflow/core/framework/local_rendezvous.cc:423] Local rendezvous recv item cancelled. Key hash: 1262374001915504110\n",
      "2024-08-11 22:54:45.527377: I tensorflow/core/framework/local_rendezvous.cc:423] Local rendezvous recv item cancelled. Key hash: 15537650790139551146\n"
     ]
    },
    {
     "name": "stdout",
     "output_type": "stream",
     "text": [
      "\u001b[1m225/225\u001b[0m \u001b[32m━━━━━━━━━━━━━━━━━━━━\u001b[0m\u001b[37m\u001b[0m \u001b[1m10s\u001b[0m 45ms/step - accuracy: 0.5104 - loss: 1.2508 - val_accuracy: 0.4969 - val_loss: 1.3020\n",
      "Epoch 21/100\n",
      "\u001b[1m225/225\u001b[0m \u001b[32m━━━━━━━━━━━━━━━━━━━━\u001b[0m\u001b[37m\u001b[0m \u001b[1m11s\u001b[0m 47ms/step - accuracy: 0.5385 - loss: 1.2159 - val_accuracy: 0.4353 - val_loss: 1.4281\n",
      "Epoch 22/100\n",
      "\u001b[1m225/225\u001b[0m \u001b[32m━━━━━━━━━━━━━━━━━━━━\u001b[0m\u001b[37m\u001b[0m \u001b[1m10s\u001b[0m 46ms/step - accuracy: 0.5426 - loss: 1.1998 - val_accuracy: 0.4948 - val_loss: 1.3143\n",
      "Epoch 23/100\n",
      "\u001b[1m225/225\u001b[0m \u001b[32m━━━━━━━━━━━━━━━━━━━━\u001b[0m\u001b[37m\u001b[0m \u001b[1m11s\u001b[0m 47ms/step - accuracy: 0.5244 - loss: 1.2047 - val_accuracy: 0.5067 - val_loss: 1.2533\n",
      "Epoch 24/100\n",
      "\u001b[1m225/225\u001b[0m \u001b[32m━━━━━━━━━━━━━━━━━━━━\u001b[0m\u001b[37m\u001b[0m \u001b[1m10s\u001b[0m 46ms/step - accuracy: 0.5430 - loss: 1.1679 - val_accuracy: 0.4922 - val_loss: 1.3481\n",
      "Epoch 25/100\n",
      "\u001b[1m225/225\u001b[0m \u001b[32m━━━━━━━━━━━━━━━━━━━━\u001b[0m\u001b[37m\u001b[0m \u001b[1m11s\u001b[0m 47ms/step - accuracy: 0.5669 - loss: 1.1225 - val_accuracy: 0.5276 - val_loss: 1.2331\n",
      "Epoch 26/100\n",
      "\u001b[1m225/225\u001b[0m \u001b[32m━━━━━━━━━━━━━━━━━━━━\u001b[0m\u001b[37m\u001b[0m \u001b[1m11s\u001b[0m 47ms/step - accuracy: 0.5876 - loss: 1.0948 - val_accuracy: 0.5096 - val_loss: 1.3071\n",
      "Epoch 27/100\n",
      "\u001b[1m225/225\u001b[0m \u001b[32m━━━━━━━━━━━━━━━━━━━━\u001b[0m\u001b[37m\u001b[0m \u001b[1m10s\u001b[0m 46ms/step - accuracy: 0.5748 - loss: 1.1010 - val_accuracy: 0.3538 - val_loss: 1.7010\n",
      "Epoch 28/100\n",
      "\u001b[1m225/225\u001b[0m \u001b[32m━━━━━━━━━━━━━━━━━━━━\u001b[0m\u001b[37m\u001b[0m \u001b[1m10s\u001b[0m 46ms/step - accuracy: 0.5978 - loss: 1.0764 - val_accuracy: 0.4895 - val_loss: 1.4148\n",
      "Epoch 29/100\n",
      "\u001b[1m225/225\u001b[0m \u001b[32m━━━━━━━━━━━━━━━━━━━━\u001b[0m\u001b[37m\u001b[0m \u001b[1m11s\u001b[0m 49ms/step - accuracy: 0.6193 - loss: 1.0421 - val_accuracy: 0.5128 - val_loss: 1.2907\n",
      "Epoch 30/100\n",
      "\u001b[1m225/225\u001b[0m \u001b[32m━━━━━━━━━━━━━━━━━━━━\u001b[0m\u001b[37m\u001b[0m \u001b[1m11s\u001b[0m 47ms/step - accuracy: 0.6118 - loss: 1.0366 - val_accuracy: 0.5025 - val_loss: 1.3144\n",
      "Epoch 31/100\n",
      "\u001b[1m225/225\u001b[0m \u001b[32m━━━━━━━━━━━━━━━━━━━━\u001b[0m\u001b[37m\u001b[0m \u001b[1m11s\u001b[0m 47ms/step - accuracy: 0.6084 - loss: 1.0348 - val_accuracy: 0.4890 - val_loss: 1.7890\n",
      "Epoch 32/100\n",
      "\u001b[1m221/225\u001b[0m \u001b[32m━━━━━━━━━━━━━━━━━━━\u001b[0m\u001b[37m━\u001b[0m \u001b[1m0s\u001b[0m 33ms/step - accuracy: 0.6227 - loss: 1.0130"
     ]
    },
    {
     "name": "stderr",
     "output_type": "stream",
     "text": [
      "2024-08-11 22:56:51.996375: I tensorflow/core/framework/local_rendezvous.cc:404] Local rendezvous is aborting with status: OUT_OF_RANGE: End of sequence\n",
      "\t [[{{node IteratorGetNext}}]]\n",
      "\t [[IteratorGetNext/_2]]\n"
     ]
    },
    {
     "name": "stdout",
     "output_type": "stream",
     "text": [
      "\u001b[1m225/225\u001b[0m \u001b[32m━━━━━━━━━━━━━━━━━━━━\u001b[0m\u001b[37m\u001b[0m \u001b[1m10s\u001b[0m 46ms/step - accuracy: 0.6227 - loss: 1.0129 - val_accuracy: 0.5472 - val_loss: 1.2247\n",
      "Epoch 33/100\n",
      "\u001b[1m225/225\u001b[0m \u001b[32m━━━━━━━━━━━━━━━━━━━━\u001b[0m\u001b[37m\u001b[0m \u001b[1m11s\u001b[0m 47ms/step - accuracy: 0.6406 - loss: 0.9813 - val_accuracy: 0.5431 - val_loss: 1.2087\n",
      "Epoch 34/100\n",
      "\u001b[1m225/225\u001b[0m \u001b[32m━━━━━━━━━━━━━━━━━━━━\u001b[0m\u001b[37m\u001b[0m \u001b[1m11s\u001b[0m 47ms/step - accuracy: 0.6753 - loss: 0.9059 - val_accuracy: 0.5533 - val_loss: 1.2372\n",
      "Epoch 35/100\n",
      "\u001b[1m225/225\u001b[0m \u001b[32m━━━━━━━━━━━━━━━━━━━━\u001b[0m\u001b[37m\u001b[0m \u001b[1m11s\u001b[0m 48ms/step - accuracy: 0.6820 - loss: 0.8971 - val_accuracy: 0.5590 - val_loss: 1.2199\n",
      "Epoch 36/100\n",
      "\u001b[1m225/225\u001b[0m \u001b[32m━━━━━━━━━━━━━━━━━━━━\u001b[0m\u001b[37m\u001b[0m \u001b[1m11s\u001b[0m 47ms/step - accuracy: 0.6832 - loss: 0.8837 - val_accuracy: 0.5621 - val_loss: 1.2221\n",
      "Epoch 37/100\n",
      "\u001b[1m225/225\u001b[0m \u001b[32m━━━━━━━━━━━━━━━━━━━━\u001b[0m\u001b[37m\u001b[0m \u001b[1m11s\u001b[0m 47ms/step - accuracy: 0.6965 - loss: 0.8345 - val_accuracy: 0.5247 - val_loss: 1.3777\n",
      "Epoch 38/100\n",
      "\u001b[1m225/225\u001b[0m \u001b[32m━━━━━━━━━━━━━━━━━━━━\u001b[0m\u001b[37m\u001b[0m \u001b[1m11s\u001b[0m 47ms/step - accuracy: 0.7159 - loss: 0.8102 - val_accuracy: 0.5558 - val_loss: 1.2242\n",
      "Epoch 39/100\n",
      "\u001b[1m225/225\u001b[0m \u001b[32m━━━━━━━━━━━━━━━━━━━━\u001b[0m\u001b[37m\u001b[0m \u001b[1m11s\u001b[0m 47ms/step - accuracy: 0.7176 - loss: 0.8024 - val_accuracy: 0.5663 - val_loss: 1.2041\n",
      "Epoch 40/100\n",
      "\u001b[1m221/225\u001b[0m \u001b[32m━━━━━━━━━━━━━━━━━━━\u001b[0m\u001b[37m━\u001b[0m \u001b[1m0s\u001b[0m 33ms/step - accuracy: 0.7260 - loss: 0.7650"
     ]
    },
    {
     "name": "stderr",
     "output_type": "stream",
     "text": [
      "2024-08-11 22:58:16.922468: I tensorflow/core/framework/local_rendezvous.cc:423] Local rendezvous recv item cancelled. Key hash: 4848502781483569787\n",
      "2024-08-11 22:58:16.922553: I tensorflow/core/framework/local_rendezvous.cc:423] Local rendezvous recv item cancelled. Key hash: 1262374001915504110\n",
      "2024-08-11 22:58:16.922601: I tensorflow/core/framework/local_rendezvous.cc:423] Local rendezvous recv item cancelled. Key hash: 15537650790139551146\n"
     ]
    },
    {
     "name": "stdout",
     "output_type": "stream",
     "text": [
      "\u001b[1m225/225\u001b[0m \u001b[32m━━━━━━━━━━━━━━━━━━━━\u001b[0m\u001b[37m\u001b[0m \u001b[1m11s\u001b[0m 47ms/step - accuracy: 0.7261 - loss: 0.7649 - val_accuracy: 0.5755 - val_loss: 1.1975\n",
      "Epoch 41/100\n",
      "\u001b[1m225/225\u001b[0m \u001b[32m━━━━━━━━━━━━━━━━━━━━\u001b[0m\u001b[37m\u001b[0m \u001b[1m11s\u001b[0m 49ms/step - accuracy: 0.7342 - loss: 0.7541 - val_accuracy: 0.5735 - val_loss: 1.2236\n",
      "Epoch 42/100\n",
      "\u001b[1m225/225\u001b[0m \u001b[32m━━━━━━━━━━━━━━━━━━━━\u001b[0m\u001b[37m\u001b[0m \u001b[1m11s\u001b[0m 47ms/step - accuracy: 0.7655 - loss: 0.6920 - val_accuracy: 0.5716 - val_loss: 1.2472\n",
      "Epoch 43/100\n",
      "\u001b[1m225/225\u001b[0m \u001b[32m━━━━━━━━━━━━━━━━━━━━\u001b[0m\u001b[37m\u001b[0m \u001b[1m11s\u001b[0m 48ms/step - accuracy: 0.7599 - loss: 0.6790 - val_accuracy: 0.5695 - val_loss: 1.2160\n",
      "Epoch 44/100\n",
      "\u001b[1m221/225\u001b[0m \u001b[32m━━━━━━━━━━━━━━━━━━━\u001b[0m\u001b[37m━\u001b[0m \u001b[1m0s\u001b[0m 33ms/step - accuracy: 0.7650 - loss: 0.6750"
     ]
    },
    {
     "name": "stderr",
     "output_type": "stream",
     "text": [
      "2024-08-11 22:59:00.028935: I tensorflow/core/framework/local_rendezvous.cc:423] Local rendezvous recv item cancelled. Key hash: 4848502781483569787\n",
      "2024-08-11 22:59:00.029020: I tensorflow/core/framework/local_rendezvous.cc:423] Local rendezvous recv item cancelled. Key hash: 1262374001915504110\n",
      "2024-08-11 22:59:00.029040: I tensorflow/core/framework/local_rendezvous.cc:423] Local rendezvous recv item cancelled. Key hash: 15537650790139551146\n"
     ]
    },
    {
     "name": "stdout",
     "output_type": "stream",
     "text": [
      "\u001b[1m225/225\u001b[0m \u001b[32m━━━━━━━━━━━━━━━━━━━━\u001b[0m\u001b[37m\u001b[0m \u001b[1m11s\u001b[0m 47ms/step - accuracy: 0.7650 - loss: 0.6749 - val_accuracy: 0.5548 - val_loss: 1.2762\n",
      "Epoch 45/100\n",
      "\u001b[1m225/225\u001b[0m \u001b[32m━━━━━━━━━━━━━━━━━━━━\u001b[0m\u001b[37m\u001b[0m \u001b[1m11s\u001b[0m 50ms/step - accuracy: 0.7699 - loss: 0.6738 - val_accuracy: 0.5612 - val_loss: 1.3327\n",
      "Epoch 46/100\n",
      "\u001b[1m225/225\u001b[0m \u001b[32m━━━━━━━━━━━━━━━━━━━━\u001b[0m\u001b[37m\u001b[0m \u001b[1m10s\u001b[0m 47ms/step - accuracy: 0.7924 - loss: 0.6182 - val_accuracy: 0.5823 - val_loss: 1.2122\n",
      "Epoch 47/100\n",
      "\u001b[1m225/225\u001b[0m \u001b[32m━━━━━━━━━━━━━━━━━━━━\u001b[0m\u001b[37m\u001b[0m \u001b[1m10s\u001b[0m 46ms/step - accuracy: 0.8068 - loss: 0.5777 - val_accuracy: 0.5827 - val_loss: 1.3424\n",
      "Epoch 48/100\n",
      "\u001b[1m225/225\u001b[0m \u001b[32m━━━━━━━━━━━━━━━━━━━━\u001b[0m\u001b[37m\u001b[0m \u001b[1m11s\u001b[0m 47ms/step - accuracy: 0.8226 - loss: 0.5369 - val_accuracy: 0.5953 - val_loss: 1.2852\n",
      "Epoch 49/100\n",
      "\u001b[1m225/225\u001b[0m \u001b[32m━━━━━━━━━━━━━━━━━━━━\u001b[0m\u001b[37m\u001b[0m \u001b[1m11s\u001b[0m 47ms/step - accuracy: 0.8074 - loss: 0.5531 - val_accuracy: 0.5783 - val_loss: 1.4034\n",
      "Epoch 50/100\n",
      "\u001b[1m225/225\u001b[0m \u001b[32m━━━━━━━━━━━━━━━━━━━━\u001b[0m\u001b[37m\u001b[0m \u001b[1m11s\u001b[0m 48ms/step - accuracy: 0.8292 - loss: 0.5145 - val_accuracy: 0.5678 - val_loss: 1.3983\n",
      "Epoch 51/100\n",
      "\u001b[1m225/225\u001b[0m \u001b[32m━━━━━━━━━━━━━━━━━━━━\u001b[0m\u001b[37m\u001b[0m \u001b[1m10s\u001b[0m 46ms/step - accuracy: 0.8238 - loss: 0.5407 - val_accuracy: 0.5578 - val_loss: 1.6016\n",
      "Epoch 52/100\n",
      "\u001b[1m225/225\u001b[0m \u001b[32m━━━━━━━━━━━━━━━━━━━━\u001b[0m\u001b[37m\u001b[0m \u001b[1m11s\u001b[0m 47ms/step - accuracy: 0.8302 - loss: 0.5323 - val_accuracy: 0.5730 - val_loss: 1.4191\n",
      "Epoch 53/100\n",
      "\u001b[1m225/225\u001b[0m \u001b[32m━━━━━━━━━━━━━━━━━━━━\u001b[0m\u001b[37m\u001b[0m \u001b[1m11s\u001b[0m 49ms/step - accuracy: 0.8557 - loss: 0.4415 - val_accuracy: 0.5864 - val_loss: 1.4619\n",
      "Epoch 54/100\n",
      "\u001b[1m225/225\u001b[0m \u001b[32m━━━━━━━━━━━━━━━━━━━━\u001b[0m\u001b[37m\u001b[0m \u001b[1m11s\u001b[0m 47ms/step - accuracy: 0.8396 - loss: 0.4776 - val_accuracy: 0.5904 - val_loss: 1.3602\n",
      "Epoch 55/100\n",
      "\u001b[1m225/225\u001b[0m \u001b[32m━━━━━━━━━━━━━━━━━━━━\u001b[0m\u001b[37m\u001b[0m \u001b[1m11s\u001b[0m 47ms/step - accuracy: 0.8642 - loss: 0.4229 - val_accuracy: 0.5889 - val_loss: 1.4054\n",
      "Epoch 56/100\n",
      "\u001b[1m225/225\u001b[0m \u001b[32m━━━━━━━━━━━━━━━━━━━━\u001b[0m\u001b[37m\u001b[0m \u001b[1m11s\u001b[0m 47ms/step - accuracy: 0.8614 - loss: 0.4228 - val_accuracy: 0.6028 - val_loss: 1.4021\n",
      "Epoch 57/100\n",
      "\u001b[1m225/225\u001b[0m \u001b[32m━━━━━━━━━━━━━━━━━━━━\u001b[0m\u001b[37m\u001b[0m \u001b[1m11s\u001b[0m 48ms/step - accuracy: 0.8858 - loss: 0.3803 - val_accuracy: 0.5667 - val_loss: 1.3695\n",
      "Epoch 58/100\n",
      "\u001b[1m225/225\u001b[0m \u001b[32m━━━━━━━━━━━━━━━━━━━━\u001b[0m\u001b[37m\u001b[0m \u001b[1m11s\u001b[0m 47ms/step - accuracy: 0.8784 - loss: 0.3804 - val_accuracy: 0.5607 - val_loss: 1.3420\n",
      "Epoch 59/100\n",
      "\u001b[1m225/225\u001b[0m \u001b[32m━━━━━━━━━━━━━━━━━━━━\u001b[0m\u001b[37m\u001b[0m \u001b[1m11s\u001b[0m 48ms/step - accuracy: 0.8704 - loss: 0.4013 - val_accuracy: 0.6031 - val_loss: 1.4668\n",
      "Epoch 60/100\n",
      "\u001b[1m225/225\u001b[0m \u001b[32m━━━━━━━━━━━━━━━━━━━━\u001b[0m\u001b[37m\u001b[0m \u001b[1m11s\u001b[0m 47ms/step - accuracy: 0.8723 - loss: 0.4007 - val_accuracy: 0.5684 - val_loss: 1.4932\n",
      "Epoch 61/100\n",
      "\u001b[1m225/225\u001b[0m \u001b[32m━━━━━━━━━━━━━━━━━━━━\u001b[0m\u001b[37m\u001b[0m \u001b[1m11s\u001b[0m 49ms/step - accuracy: 0.8850 - loss: 0.3582 - val_accuracy: 0.5880 - val_loss: 1.4646\n",
      "Epoch 62/100\n",
      "\u001b[1m225/225\u001b[0m \u001b[32m━━━━━━━━━━━━━━━━━━━━\u001b[0m\u001b[37m\u001b[0m \u001b[1m11s\u001b[0m 48ms/step - accuracy: 0.8918 - loss: 0.3458 - val_accuracy: 0.5865 - val_loss: 1.5589\n",
      "Epoch 63/100\n",
      "\u001b[1m225/225\u001b[0m \u001b[32m━━━━━━━━━━━━━━━━━━━━\u001b[0m\u001b[37m\u001b[0m \u001b[1m11s\u001b[0m 47ms/step - accuracy: 0.8927 - loss: 0.3462 - val_accuracy: 0.5345 - val_loss: 1.8320\n",
      "Epoch 64/100\n",
      "\u001b[1m221/225\u001b[0m \u001b[32m━━━━━━━━━━━━━━━━━━━\u001b[0m\u001b[37m━\u001b[0m \u001b[1m0s\u001b[0m 33ms/step - accuracy: 0.8894 - loss: 0.3560"
     ]
    },
    {
     "name": "stderr",
     "output_type": "stream",
     "text": [
      "2024-08-11 23:02:34.273281: I tensorflow/core/framework/local_rendezvous.cc:404] Local rendezvous is aborting with status: OUT_OF_RANGE: End of sequence\n",
      "\t [[{{node IteratorGetNext}}]]\n",
      "\t [[IteratorGetNext/_2]]\n"
     ]
    },
    {
     "name": "stdout",
     "output_type": "stream",
     "text": [
      "\u001b[1m225/225\u001b[0m \u001b[32m━━━━━━━━━━━━━━━━━━━━\u001b[0m\u001b[37m\u001b[0m \u001b[1m10s\u001b[0m 46ms/step - accuracy: 0.8895 - loss: 0.3557 - val_accuracy: 0.6028 - val_loss: 1.5063\n",
      "Epoch 65/100\n",
      "\u001b[1m225/225\u001b[0m \u001b[32m━━━━━━━━━━━━━━━━━━━━\u001b[0m\u001b[37m\u001b[0m \u001b[1m11s\u001b[0m 48ms/step - accuracy: 0.8971 - loss: 0.3146 - val_accuracy: 0.5917 - val_loss: 1.5070\n",
      "Epoch 66/100\n",
      "\u001b[1m225/225\u001b[0m \u001b[32m━━━━━━━━━━━━━━━━━━━━\u001b[0m\u001b[37m\u001b[0m \u001b[1m11s\u001b[0m 48ms/step - accuracy: 0.9018 - loss: 0.3083 - val_accuracy: 0.5958 - val_loss: 1.6527\n",
      "Epoch 67/100\n",
      "\u001b[1m225/225\u001b[0m \u001b[32m━━━━━━━━━━━━━━━━━━━━\u001b[0m\u001b[37m\u001b[0m \u001b[1m11s\u001b[0m 49ms/step - accuracy: 0.9112 - loss: 0.2889 - val_accuracy: 0.5809 - val_loss: 1.6180\n",
      "Epoch 68/100\n",
      "\u001b[1m221/225\u001b[0m \u001b[32m━━━━━━━━━━━━━━━━━━━\u001b[0m\u001b[37m━\u001b[0m \u001b[1m0s\u001b[0m 33ms/step - accuracy: 0.9169 - loss: 0.2954"
     ]
    },
    {
     "name": "stderr",
     "output_type": "stream",
     "text": [
      "2024-08-11 23:03:17.388967: I tensorflow/core/framework/local_rendezvous.cc:423] Local rendezvous recv item cancelled. Key hash: 4848502781483569787\n",
      "2024-08-11 23:03:17.389050: I tensorflow/core/framework/local_rendezvous.cc:423] Local rendezvous recv item cancelled. Key hash: 1262374001915504110\n",
      "2024-08-11 23:03:17.389070: I tensorflow/core/framework/local_rendezvous.cc:423] Local rendezvous recv item cancelled. Key hash: 15537650790139551146\n"
     ]
    },
    {
     "name": "stdout",
     "output_type": "stream",
     "text": [
      "\u001b[1m225/225\u001b[0m \u001b[32m━━━━━━━━━━━━━━━━━━━━\u001b[0m\u001b[37m\u001b[0m \u001b[1m10s\u001b[0m 47ms/step - accuracy: 0.9169 - loss: 0.2954 - val_accuracy: 0.5940 - val_loss: 1.5444\n",
      "Epoch 69/100\n",
      "\u001b[1m225/225\u001b[0m \u001b[32m━━━━━━━━━━━━━━━━━━━━\u001b[0m\u001b[37m\u001b[0m \u001b[1m11s\u001b[0m 47ms/step - accuracy: 0.9269 - loss: 0.2592 - val_accuracy: 0.6007 - val_loss: 1.5740\n",
      "Epoch 70/100\n",
      "\u001b[1m225/225\u001b[0m \u001b[32m━━━━━━━━━━━━━━━━━━━━\u001b[0m\u001b[37m\u001b[0m \u001b[1m10s\u001b[0m 47ms/step - accuracy: 0.9263 - loss: 0.2562 - val_accuracy: 0.5879 - val_loss: 1.6475\n",
      "Epoch 71/100\n",
      "\u001b[1m225/225\u001b[0m \u001b[32m━━━━━━━━━━━━━━━━━━━━\u001b[0m\u001b[37m\u001b[0m \u001b[1m10s\u001b[0m 47ms/step - accuracy: 0.9277 - loss: 0.2459 - val_accuracy: 0.5886 - val_loss: 1.7212\n",
      "Epoch 72/100\n",
      "\u001b[1m225/225\u001b[0m \u001b[32m━━━━━━━━━━━━━━━━━━━━\u001b[0m\u001b[37m\u001b[0m \u001b[1m10s\u001b[0m 46ms/step - accuracy: 0.9237 - loss: 0.2507 - val_accuracy: 0.5957 - val_loss: 1.5195\n",
      "Epoch 73/100\n",
      "\u001b[1m225/225\u001b[0m \u001b[32m━━━━━━━━━━━━━━━━━━━━\u001b[0m\u001b[37m\u001b[0m \u001b[1m11s\u001b[0m 48ms/step - accuracy: 0.9319 - loss: 0.2387 - val_accuracy: 0.5738 - val_loss: 1.6136\n",
      "Epoch 74/100\n",
      "\u001b[1m225/225\u001b[0m \u001b[32m━━━━━━━━━━━━━━━━━━━━\u001b[0m\u001b[37m\u001b[0m \u001b[1m11s\u001b[0m 47ms/step - accuracy: 0.9200 - loss: 0.2668 - val_accuracy: 0.5869 - val_loss: 1.7485\n",
      "Epoch 75/100\n",
      "\u001b[1m225/225\u001b[0m \u001b[32m━━━━━━━━━━━━━━━━━━━━\u001b[0m\u001b[37m\u001b[0m \u001b[1m11s\u001b[0m 47ms/step - accuracy: 0.9298 - loss: 0.2380 - val_accuracy: 0.5992 - val_loss: 1.6797\n",
      "Epoch 76/100\n",
      "\u001b[1m225/225\u001b[0m \u001b[32m━━━━━━━━━━━━━━━━━━━━\u001b[0m\u001b[37m\u001b[0m \u001b[1m10s\u001b[0m 46ms/step - accuracy: 0.9379 - loss: 0.2015 - val_accuracy: 0.6066 - val_loss: 1.7774\n",
      "Epoch 77/100\n",
      "\u001b[1m225/225\u001b[0m \u001b[32m━━━━━━━━━━━━━━━━━━━━\u001b[0m\u001b[37m\u001b[0m \u001b[1m11s\u001b[0m 49ms/step - accuracy: 0.9376 - loss: 0.2083 - val_accuracy: 0.5880 - val_loss: 1.7004\n",
      "Epoch 78/100\n",
      "\u001b[1m225/225\u001b[0m \u001b[32m━━━━━━━━━━━━━━━━━━━━\u001b[0m\u001b[37m\u001b[0m \u001b[1m11s\u001b[0m 47ms/step - accuracy: 0.9395 - loss: 0.2153 - val_accuracy: 0.5993 - val_loss: 1.6741\n",
      "Epoch 79/100\n",
      "\u001b[1m225/225\u001b[0m \u001b[32m━━━━━━━━━━━━━━━━━━━━\u001b[0m\u001b[37m\u001b[0m \u001b[1m11s\u001b[0m 50ms/step - accuracy: 0.9438 - loss: 0.2142 - val_accuracy: 0.5890 - val_loss: 1.6776\n",
      "Epoch 80/100\n",
      "\u001b[1m225/225\u001b[0m \u001b[32m━━━━━━━━━━━━━━━━━━━━\u001b[0m\u001b[37m\u001b[0m \u001b[1m10s\u001b[0m 46ms/step - accuracy: 0.9380 - loss: 0.2012 - val_accuracy: 0.5949 - val_loss: 1.7470\n",
      "Epoch 81/100\n",
      "\u001b[1m225/225\u001b[0m \u001b[32m━━━━━━━━━━━━━━━━━━━━\u001b[0m\u001b[37m\u001b[0m \u001b[1m11s\u001b[0m 47ms/step - accuracy: 0.9357 - loss: 0.2196 - val_accuracy: 0.5838 - val_loss: 1.6484\n",
      "Epoch 82/100\n",
      "\u001b[1m225/225\u001b[0m \u001b[32m━━━━━━━━━━━━━━━━━━━━\u001b[0m\u001b[37m\u001b[0m \u001b[1m11s\u001b[0m 49ms/step - accuracy: 0.9446 - loss: 0.1873 - val_accuracy: 0.6025 - val_loss: 1.6370\n",
      "Epoch 83/100\n",
      "\u001b[1m225/225\u001b[0m \u001b[32m━━━━━━━━━━━━━━━━━━━━\u001b[0m\u001b[37m\u001b[0m \u001b[1m11s\u001b[0m 48ms/step - accuracy: 0.9487 - loss: 0.1730 - val_accuracy: 0.5917 - val_loss: 1.6701\n",
      "Epoch 84/100\n",
      "\u001b[1m225/225\u001b[0m \u001b[32m━━━━━━━━━━━━━━━━━━━━\u001b[0m\u001b[37m\u001b[0m \u001b[1m11s\u001b[0m 48ms/step - accuracy: 0.9393 - loss: 0.2039 - val_accuracy: 0.5954 - val_loss: 1.8365\n",
      "Epoch 85/100\n",
      "\u001b[1m225/225\u001b[0m \u001b[32m━━━━━━━━━━━━━━━━━━━━\u001b[0m\u001b[37m\u001b[0m \u001b[1m11s\u001b[0m 48ms/step - accuracy: 0.9459 - loss: 0.1918 - val_accuracy: 0.5833 - val_loss: 1.5444\n",
      "Epoch 86/100\n",
      "\u001b[1m225/225\u001b[0m \u001b[32m━━━━━━━━━━━━━━━━━━━━\u001b[0m\u001b[37m\u001b[0m \u001b[1m11s\u001b[0m 49ms/step - accuracy: 0.9433 - loss: 0.1824 - val_accuracy: 0.5953 - val_loss: 1.8100\n",
      "Epoch 87/100\n",
      "\u001b[1m225/225\u001b[0m \u001b[32m━━━━━━━━━━━━━━━━━━━━\u001b[0m\u001b[37m\u001b[0m \u001b[1m11s\u001b[0m 48ms/step - accuracy: 0.9505 - loss: 0.1768 - val_accuracy: 0.5891 - val_loss: 1.8864\n",
      "Epoch 88/100\n",
      "\u001b[1m221/225\u001b[0m \u001b[32m━━━━━━━━━━━━━━━━━━━\u001b[0m\u001b[37m━\u001b[0m \u001b[1m0s\u001b[0m 33ms/step - accuracy: 0.9481 - loss: 0.2047"
     ]
    },
    {
     "name": "stderr",
     "output_type": "stream",
     "text": [
      "2024-08-11 23:06:51.419856: I tensorflow/core/framework/local_rendezvous.cc:423] Local rendezvous recv item cancelled. Key hash: 4848502781483569787\n",
      "2024-08-11 23:06:51.419938: I tensorflow/core/framework/local_rendezvous.cc:423] Local rendezvous recv item cancelled. Key hash: 1262374001915504110\n",
      "2024-08-11 23:06:51.419957: I tensorflow/core/framework/local_rendezvous.cc:423] Local rendezvous recv item cancelled. Key hash: 15537650790139551146\n"
     ]
    },
    {
     "name": "stdout",
     "output_type": "stream",
     "text": [
      "\u001b[1m225/225\u001b[0m \u001b[32m━━━━━━━━━━━━━━━━━━━━\u001b[0m\u001b[37m\u001b[0m \u001b[1m10s\u001b[0m 47ms/step - accuracy: 0.9481 - loss: 0.2045 - val_accuracy: 0.6028 - val_loss: 1.7013\n",
      "Epoch 89/100\n",
      "\u001b[1m225/225\u001b[0m \u001b[32m━━━━━━━━━━━━━━━━━━━━\u001b[0m\u001b[37m\u001b[0m \u001b[1m11s\u001b[0m 47ms/step - accuracy: 0.9576 - loss: 0.1529 - val_accuracy: 0.6083 - val_loss: 1.7585\n",
      "Epoch 90/100\n",
      "\u001b[1m225/225\u001b[0m \u001b[32m━━━━━━━━━━━━━━━━━━━━\u001b[0m\u001b[37m\u001b[0m \u001b[1m11s\u001b[0m 47ms/step - accuracy: 0.9455 - loss: 0.1874 - val_accuracy: 0.6000 - val_loss: 1.8660\n",
      "Epoch 91/100\n",
      "\u001b[1m225/225\u001b[0m \u001b[32m━━━━━━━━━━━━━━━━━━━━\u001b[0m\u001b[37m\u001b[0m \u001b[1m11s\u001b[0m 48ms/step - accuracy: 0.9565 - loss: 0.1466 - val_accuracy: 0.6057 - val_loss: 1.7890\n",
      "Epoch 92/100\n",
      "\u001b[1m225/225\u001b[0m \u001b[32m━━━━━━━━━━━━━━━━━━━━\u001b[0m\u001b[37m\u001b[0m \u001b[1m10s\u001b[0m 47ms/step - accuracy: 0.9599 - loss: 0.1315 - val_accuracy: 0.5859 - val_loss: 1.7409\n",
      "Epoch 93/100\n",
      "\u001b[1m225/225\u001b[0m \u001b[32m━━━━━━━━━━━━━━━━━━━━\u001b[0m\u001b[37m\u001b[0m \u001b[1m11s\u001b[0m 48ms/step - accuracy: 0.9505 - loss: 0.1720 - val_accuracy: 0.5901 - val_loss: 2.0642\n",
      "Epoch 94/100\n",
      "\u001b[1m225/225\u001b[0m \u001b[32m━━━━━━━━━━━━━━━━━━━━\u001b[0m\u001b[37m\u001b[0m \u001b[1m11s\u001b[0m 49ms/step - accuracy: 0.9521 - loss: 0.1525 - val_accuracy: 0.5967 - val_loss: 1.7801\n",
      "Epoch 95/100\n",
      "\u001b[1m225/225\u001b[0m \u001b[32m━━━━━━━━━━━━━━━━━━━━\u001b[0m\u001b[37m\u001b[0m \u001b[1m11s\u001b[0m 48ms/step - accuracy: 0.9518 - loss: 0.1644 - val_accuracy: 0.5963 - val_loss: 1.9773\n",
      "Epoch 96/100\n",
      "\u001b[1m225/225\u001b[0m \u001b[32m━━━━━━━━━━━━━━━━━━━━\u001b[0m\u001b[37m\u001b[0m \u001b[1m11s\u001b[0m 49ms/step - accuracy: 0.9501 - loss: 0.1625 - val_accuracy: 0.5790 - val_loss: 1.8368\n",
      "Epoch 97/100\n",
      "\u001b[1m225/225\u001b[0m \u001b[32m━━━━━━━━━━━━━━━━━━━━\u001b[0m\u001b[37m\u001b[0m \u001b[1m11s\u001b[0m 48ms/step - accuracy: 0.9577 - loss: 0.1573 - val_accuracy: 0.6014 - val_loss: 1.8060\n",
      "Epoch 98/100\n",
      "\u001b[1m225/225\u001b[0m \u001b[32m━━━━━━━━━━━━━━━━━━━━\u001b[0m\u001b[37m\u001b[0m \u001b[1m11s\u001b[0m 48ms/step - accuracy: 0.9556 - loss: 0.1695 - val_accuracy: 0.6152 - val_loss: 1.7495\n",
      "Epoch 99/100\n",
      "\u001b[1m225/225\u001b[0m \u001b[32m━━━━━━━━━━━━━━━━━━━━\u001b[0m\u001b[37m\u001b[0m \u001b[1m11s\u001b[0m 48ms/step - accuracy: 0.9560 - loss: 0.1444 - val_accuracy: 0.6110 - val_loss: 1.8629\n",
      "Epoch 100/100\n",
      "\u001b[1m225/225\u001b[0m \u001b[32m━━━━━━━━━━━━━━━━━━━━\u001b[0m\u001b[37m\u001b[0m \u001b[1m11s\u001b[0m 50ms/step - accuracy: 0.9575 - loss: 0.1474 - val_accuracy: 0.6032 - val_loss: 1.7460\n"
     ]
    }
   ],
   "source": [
    "epochs = 100\n",
    "\n",
    "history = cnn_gcn_model.fit(\n",
    "    train_generator,\n",
    "    validation_data=test_generator,\n",
    "    batch_size=28,\n",
    "    steps_per_epoch = 225,\n",
    "    epochs=epochs\n",
    ")"
   ]
  },
  {
   "cell_type": "code",
   "execution_count": 45,
   "id": "7222a32b-ff0c-49c8-9e2c-f33829f6dd9f",
   "metadata": {},
   "outputs": [
    {
     "data": {
      "image/png": "[encoded data removed]",
      "text/plain": [
       "<Figure size 2000x800 with 2 Axes>"
      ]
     },
     "metadata": {},
     "output_type": "display_data"
    }
   ],
   "source": [
    "# Display model performance\n",
    "model_performance(history, epochs)"
   ]
  },
  {
   "cell_type": "code",
   "execution_count": 43,
   "id": "d52178ca-5d81-49fb-85d6-d48c8dbabace",
   "metadata": {},
   "outputs": [
    {
     "data": {
      "text/plain": [
       "<bound method Model.save of <Functional name=functional, built=True>>"
      ]
     },
     "execution_count": 43,
     "metadata": {},
     "output_type": "execute_result"
    }
   ],
   "source": [
    "cnn_gcn_model.save"
   ]
  },
  {
   "cell_type": "code",
   "execution_count": 53,
   "id": "1cca89f8-7cc7-4b51-b47e-479855daa056",
   "metadata": {},
   "outputs": [
    {
     "name": "stdout",
     "output_type": "stream",
     "text": [
      "\u001b[1m897/897\u001b[0m \u001b[32m━━━━━━━━━━━━━━━━━━━━\u001b[0m\u001b[37m\u001b[0m \u001b[1m19s\u001b[0m 22ms/step - accuracy: 0.9597 - loss: 0.1245\n",
      "\u001b[1m224/224\u001b[0m \u001b[32m━━━━━━━━━━━━━━━━━━━━\u001b[0m\u001b[37m\u001b[0m \u001b[1m4s\u001b[0m 18ms/step - accuracy: 0.6889 - loss: 1.5186\n",
      "Train Loss:  0.1287255883216858\n",
      "Train Accuracy:  0.9605630040168762\n",
      "--------------------\n",
      "Test Loss:  1.7460252046585083\n",
      "Test Accuracy:  0.6032366156578064\n"
     ]
    }
   ],
   "source": [
    "# Evaluate the model\n",
    "model_evaluation(cnn_gcn_model, train_generator, test_generator) "
   ]
  },
  {
   "cell_type": "code",
   "execution_count": 57,
   "id": "da9eb0ca-aa5a-4f11-8786-0db3f5bfc9de",
   "metadata": {},
   "outputs": [
    {
     "name": "stdout",
     "output_type": "stream",
     "text": [
      "\u001b[1m224/224\u001b[0m \u001b[32m━━━━━━━━━━━━━━━━━━━━\u001b[0m\u001b[37m\u001b[0m \u001b[1m4s\u001b[0m 19ms/step\n"
     ]
    },
    {
     "data": {
      "text/plain": [
       "array([1, 0, 1, ..., 3, 0, 5])"
      ]
     },
     "execution_count": 57,
     "metadata": {},
     "output_type": "execute_result"
    }
   ],
   "source": [
    "# Get predictions\n",
    "y_pred = get_pred(cnn_gcn_model, test_generator)\n",
    "y_pred\n"
   ]
  },
  {
   "cell_type": "code",
   "execution_count": 69,
   "id": "440b5efb-72c6-4bdd-9890-f3223c5821b8",
   "metadata": {},
   "outputs": [
    {
     "ename": "AttributeError",
     "evalue": "'DataGenerator' object has no attribute 'class_indices'",
     "output_type": "error",
     "traceback": [
      "\u001b[0;31m---------------------------------------------------------------------------\u001b[0m",
      "\u001b[0;31mAttributeError\u001b[0m                            Traceback (most recent call last)",
      "Cell \u001b[0;32mIn[69], line 2\u001b[0m\n\u001b[1;32m      1\u001b[0m \u001b[38;5;66;03m# Plot confusion matrix\u001b[39;00m\n\u001b[0;32m----> 2\u001b[0m plot_confusion_matrix(test_generator, y_pred, class_names)\n",
      "Cell \u001b[0;32mIn[63], line 61\u001b[0m, in \u001b[0;36mplot_confusion_matrix\u001b[0;34m(test_gen, y_pred, class_names)\u001b[0m\n\u001b[1;32m     57\u001b[0m \u001b[38;5;28;01mdef\u001b[39;00m \u001b[38;5;21mplot_confusion_matrix\u001b[39m(test_gen, y_pred, class_names):\n\u001b[1;32m     58\u001b[0m     \u001b[38;5;66;03m# Create class indices dictionary\u001b[39;00m\n\u001b[1;32m     59\u001b[0m     class_indices \u001b[38;5;241m=\u001b[39m {class_name: i \u001b[38;5;28;01mfor\u001b[39;00m i, class_name \u001b[38;5;129;01min\u001b[39;00m \u001b[38;5;28menumerate\u001b[39m(class_names)}\n\u001b[0;32m---> 61\u001b[0m     g_dict \u001b[38;5;241m=\u001b[39m test_gen\u001b[38;5;241m.\u001b[39mclass_indices\n\u001b[1;32m     62\u001b[0m     classes \u001b[38;5;241m=\u001b[39m \u001b[38;5;28mlist\u001b[39m(class_indices\u001b[38;5;241m.\u001b[39mkeys())\n\u001b[1;32m     64\u001b[0m     \u001b[38;5;66;03m# Display the confusion matrix\u001b[39;00m\n",
      "\u001b[0;31mAttributeError\u001b[0m: 'DataGenerator' object has no attribute 'class_indices'"
     ]
    }
   ],
   "source": [
    "# Plot confusion matrix\n",
    "plot_confusion_matrix(test_generator, y_pred, class_names)"
   ]
  },
  {
   "cell_type": "code",
   "execution_count": 37,
   "id": "20693b61-34fa-4836-8903-b45a2b54aaa0",
   "metadata": {},
   "outputs": [
    {
     "ename": "NameError",
     "evalue": "name 'train_gen' is not defined",
     "output_type": "error",
     "traceback": [
      "\u001b[0;31m---------------------------------------------------------------------------\u001b[0m",
      "\u001b[0;31mNameError\u001b[0m                                 Traceback (most recent call last)",
      "Cell \u001b[0;32mIn[37], line 2\u001b[0m\n\u001b[1;32m      1\u001b[0m \u001b[38;5;66;03m# Model evaluation\u001b[39;00m\n\u001b[0;32m----> 2\u001b[0m model_evaluation(cnn_gcn_model)\n",
      "Cell \u001b[0;32mIn[33], line 38\u001b[0m, in \u001b[0;36mmodel_evaluation\u001b[0;34m(model)\u001b[0m\n\u001b[1;32m     37\u001b[0m \u001b[38;5;28;01mdef\u001b[39;00m \u001b[38;5;21mmodel_evaluation\u001b[39m(model):\n\u001b[0;32m---> 38\u001b[0m     train_score \u001b[38;5;241m=\u001b[39m model\u001b[38;5;241m.\u001b[39mevaluate(train_gen, verbose\u001b[38;5;241m=\u001b[39m \u001b[38;5;241m1\u001b[39m)\n\u001b[1;32m     39\u001b[0m     valid_score \u001b[38;5;241m=\u001b[39m model\u001b[38;5;241m.\u001b[39mevaluate(valid_gen, verbose\u001b[38;5;241m=\u001b[39m \u001b[38;5;241m1\u001b[39m)\n\u001b[1;32m     40\u001b[0m     test_score \u001b[38;5;241m=\u001b[39m model\u001b[38;5;241m.\u001b[39mevaluate(test_gen, verbose\u001b[38;5;241m=\u001b[39m \u001b[38;5;241m1\u001b[39m)\n",
      "\u001b[0;31mNameError\u001b[0m: name 'train_gen' is not defined"
     ]
    }
   ],
   "source": [
    "# Model evaluation\n",
    "model_evaluation(cnn_gcn_model)"
   ]
  },
  {
   "cell_type": "code",
   "execution_count": 39,
   "id": "aadd5276-f3be-4b18-8f00-54dfe991ef45",
   "metadata": {},
   "outputs": [
    {
     "ename": "NameError",
     "evalue": "name 'cnn_model' is not defined",
     "output_type": "error",
     "traceback": [
      "\u001b[0;31m---------------------------------------------------------------------------\u001b[0m",
      "\u001b[0;31mNameError\u001b[0m                                 Traceback (most recent call last)",
      "Cell \u001b[0;32mIn[39], line 2\u001b[0m\n\u001b[1;32m      1\u001b[0m \u001b[38;5;66;03m# get predictions\u001b[39;00m\n\u001b[0;32m----> 2\u001b[0m y_pred \u001b[38;5;241m=\u001b[39m get_pred(cnn_model, test_gen)\n\u001b[1;32m      4\u001b[0m \u001b[38;5;66;03m# plot the confusion matrix\u001b[39;00m\n\u001b[1;32m      5\u001b[0m plot_confusion_matrix(test_gen, y_pred)\n",
      "\u001b[0;31mNameError\u001b[0m: name 'cnn_model' is not defined"
     ]
    }
   ],
   "source": [
    "# get predictions\n",
    "y_pred = get_pred(cnn_gcn_model, test_gen)\n",
    "\n",
    "# plot the confusion matrix\n",
    "plot_confusion_matrix(test_gen, y_pred)"
   ]
  },
  {
   "cell_type": "code",
   "execution_count": 5,
   "id": "f0e8594d-8f22-4e08-a4c8-4892a487a318",
   "metadata": {},
   "outputs": [
    {
     "ename": "NameError",
     "evalue": "name 'cnn_gcn_model' is not defined",
     "output_type": "error",
     "traceback": [
      "\u001b[0;31m---------------------------------------------------------------------------\u001b[0m",
      "\u001b[0;31mNameError\u001b[0m                                 Traceback (most recent call last)",
      "Cell \u001b[0;32mIn[5], line 1\u001b[0m\n\u001b[0;32m----> 1\u001b[0m model_json \u001b[38;5;241m=\u001b[39m cnn_gcn_model\u001b[38;5;241m.\u001b[39mto_json()\n\u001b[1;32m      2\u001b[0m \u001b[38;5;28;01mwith\u001b[39;00m \u001b[38;5;28mopen\u001b[39m(\u001b[38;5;124m\"\u001b[39m\u001b[38;5;124memotiondetector2_100epochs.json\u001b[39m\u001b[38;5;124m\"\u001b[39m,\u001b[38;5;124m'\u001b[39m\u001b[38;5;124mw\u001b[39m\u001b[38;5;124m'\u001b[39m) \u001b[38;5;28;01mas\u001b[39;00m json_file:\n\u001b[1;32m      3\u001b[0m     json_file\u001b[38;5;241m.\u001b[39mwrite(model_json)\n",
      "\u001b[0;31mNameError\u001b[0m: name 'cnn_gcn_model' is not defined"
     ]
    }
   ],
   "source": [
    "model_json = cnn_gcn_model.to_json()\n",
    "with open(\"emotiondetector2_100epochs.json\",'w') as json_file:\n",
    "    json_file.write(model_json)\n",
    "cnn_gcn_model.save(\"emotiondetector2_100epochs.keras\")"
   ]
  },
  {
   "cell_type": "code",
   "execution_count": 3,
   "id": "b572a291-9fd5-4869-a9aa-dcb7388202b2",
   "metadata": {},
   "outputs": [
    {
     "ename": "NameError",
     "evalue": "name 'GraphConvLayer' is not defined",
     "output_type": "error",
     "traceback": [
      "\u001b[0;31m---------------------------------------------------------------------------\u001b[0m",
      "\u001b[0;31mNameError\u001b[0m                                 Traceback (most recent call last)",
      "Cell \u001b[0;32mIn[3], line 8\u001b[0m\n\u001b[1;32m      5\u001b[0m     loaded_model_json \u001b[38;5;241m=\u001b[39m json_file\u001b[38;5;241m.\u001b[39mread()\n\u001b[1;32m      7\u001b[0m \u001b[38;5;66;03m# Create the model from the JSON\u001b[39;00m\n\u001b[0;32m----> 8\u001b[0m loaded_model \u001b[38;5;241m=\u001b[39m model_from_json(loaded_model_json, custom_objects\u001b[38;5;241m=\u001b[39m{\u001b[38;5;124m'\u001b[39m\u001b[38;5;124mGraphConvLayer\u001b[39m\u001b[38;5;124m'\u001b[39m: GraphConvLayer})\n\u001b[1;32m     10\u001b[0m re_cnn_gcn_model \u001b[38;5;241m=\u001b[39m loaded_model\u001b[38;5;241m.\u001b[39mload_weights(\u001b[38;5;124m'\u001b[39m\u001b[38;5;124memotiondetector2_100epochs.keras\u001b[39m\u001b[38;5;124m'\u001b[39m)\n",
      "\u001b[0;31mNameError\u001b[0m: name 'GraphConvLayer' is not defined"
     ]
    }
   ],
   "source": [
    "from tensorflow.keras.models import model_from_json\n",
    "\n",
    "# Load the JSON file\n",
    "with open('emotiondetector2_100epochs.json', 'r') as json_file:\n",
    "    loaded_model_json = json_file.read()\n",
    "\n",
    "# Create the model from the JSON\n",
    "loaded_model = model_from_json(loaded_model_json, custom_objects={'GraphConvLayer': GraphConvLayer})\n",
    "\n",
    "re_cnn_gcn_model = loaded_model.load_weights('emotiondetector2_100epochs.keras')"
   ]
  },
  {
   "cell_type": "code",
   "execution_count": 99,
   "id": "104b62d2-4824-4a74-966f-efcc2b5dc6b0",
   "metadata": {},
   "outputs": [
    {
     "name": "stdout",
     "output_type": "stream",
     "text": [
      "disgust done\n",
      "happy done\n",
      "fear done\n",
      "sad done\n",
      "surprise done\n",
      "neutral done\n",
      "angry done\n",
      "disgust done\n",
      "happy done\n",
      "fear done\n",
      "sad done\n",
      "surprise done\n",
      "neutral done\n",
      "angry done\n"
     ]
    },
    {
     "name": "stderr",
     "output_type": "stream",
     "text": [
      "100%|██████████████████████████████████████████████████████████████████████████████████████████████████████████████████████████████████████████████████████████████████████| 28709/28709 [00:07<00:00, 3732.05it/s]\n",
      "100%|████████████████████████████████████████████████████████████████████████████████████████████████████████████████████████████████████████████████████████████████████████| 7178/7178 [00:01<00:00, 4667.05it/s]\n",
      "100%|███████████████████████████████████████████████████████████████████████████████████████████████████████████████████████████████████████████████████████████████████████| 28709/28709 [03:31<00:00, 135.69it/s]\n",
      "100%|█████████████████████████████████████████████████████████████████████████████████████████████████████████████████████████████████████████████████████████████████████████| 7178/7178 [00:52<00:00, 137.91it/s]\n"
     ]
    }
   ],
   "source": [
    "x_train, A_train, y_train, x_test, A_test, y_test, class_names = prepare_data('Data/train', 'Data/test')"
   ]
  },
  {
   "cell_type": "code",
   "execution_count": null,
   "id": "8f3cdd3f-9908-4e4c-802e-64fe2f34f962",
   "metadata": {},
   "outputs": [],
   "source": [
    "import numpy as np\n",
    "from tensorflow.keras.models import load_model\n",
    "from sklearn.metrics import confusion_matrix\n",
    "import seaborn as sns\n",
    "import matplotlib.pyplot as plt\n",
    "from sklearn.preprocessing import LabelEncoder\n",
    "\n",
    "le = LabelEncoder()\n",
    "\n",
    "labels = class_names\n",
    "le.fit(labels)\n",
    "encoded_labels = le.transform(labels)\n",
    "print(encoded_labels)\n",
    "\n",
    "# Load the saved model\n",
    "model = load_model('emotiondetector2_100epochs.keras', custom_objects={'GraphConvLayer': GraphConvLayer})\n",
    "\n",
    "# Make predictions on the test set\n",
    "y_pred = model.predict([x_test, A_test])\n",
    "\n",
    "# Convert predictions to class labels\n",
    "y_pred_classes = np.argmax(y_pred, axis=1)\n",
    "y_true = np.argmax(y_test, axis=1)\n",
    "\n",
    "# Generate the confusion matrix\n",
    "conf_matrix = confusion_matrix(y_true, y_pred_classes)\n",
    "\n",
    "# Plot the confusion matrix\n",
    "plt.figure(figsize=(10, 7))\n",
    "sns.heatmap(conf_matrix, annot=True, fmt='d', cmap='Blues', xticklabels=le.classes_, yticklabels=le.classes_)\n",
    "plt.xlabel('Predicted')\n",
    "plt.ylabel('True')\n",
    "plt.title('Confusion Matrix')\n",
    "plt.show()"
   ]
  },
  {
   "cell_type": "code",
   "execution_count": 18,
   "id": "b67ab68f-5b83-4ef2-9847-bea42e00ce0d",
   "metadata": {},
   "outputs": [
    {
     "ename": "NameError",
     "evalue": "name 'GraphConvLayer' is not defined",
     "output_type": "error",
     "traceback": [
      "\u001b[0;31m---------------------------------------------------------------------------\u001b[0m",
      "\u001b[0;31mNameError\u001b[0m                                 Traceback (most recent call last)",
      "Cell \u001b[0;32mIn[18], line 3\u001b[0m\n\u001b[1;32m      1\u001b[0m \u001b[38;5;28;01mfrom\u001b[39;00m \u001b[38;5;21;01mtensorflow\u001b[39;00m\u001b[38;5;21;01m.\u001b[39;00m\u001b[38;5;21;01mkeras\u001b[39;00m\u001b[38;5;21;01m.\u001b[39;00m\u001b[38;5;21;01mmodels\u001b[39;00m \u001b[38;5;28;01mimport\u001b[39;00m load_model\n\u001b[0;32m----> 3\u001b[0m model \u001b[38;5;241m=\u001b[39m load_model(\u001b[38;5;124m'\u001b[39m\u001b[38;5;124memotiondetector2_100epochs.keras\u001b[39m\u001b[38;5;124m'\u001b[39m, custom_objects\u001b[38;5;241m=\u001b[39m{\u001b[38;5;124m'\u001b[39m\u001b[38;5;124mGraphConvLayer\u001b[39m\u001b[38;5;124m'\u001b[39m: GraphConvLayer})\n\u001b[1;32m      5\u001b[0m \u001b[38;5;28;01mimport\u001b[39;00m \u001b[38;5;21;01mvisualkeras\u001b[39;00m\n\u001b[1;32m      6\u001b[0m visualkeras\u001b[38;5;241m.\u001b[39mlayered_view(model, to_file\u001b[38;5;241m=\u001b[39m\u001b[38;5;124m'\u001b[39m\u001b[38;5;124moutput.png\u001b[39m\u001b[38;5;124m'\u001b[39m, legend\u001b[38;5;241m=\u001b[39m\u001b[38;5;28;01mTrue\u001b[39;00m, spacing\u001b[38;5;241m=\u001b[39m\u001b[38;5;241m10\u001b[39m)\n",
      "\u001b[0;31mNameError\u001b[0m: name 'GraphConvLayer' is not defined"
     ]
    }
   ],
   "source": [
    "from tensorflow.keras.models import load_model\n",
    "\n",
    "model = load_model('emotiondetector2_100epochs.keras', custom_objects={'GraphConvLayer': GraphConvLayer})\n",
    "\n",
    "import visualkeras\n",
    "visualkeras.layered_view(model, to_file='output.png', legend=True, spacing=10)"
   ]
  },
  {
   "cell_type": "code",
   "execution_count": null,
   "id": "d9c25a5d-210d-4051-bcda-7562ad518169",
   "metadata": {},
   "outputs": [],
   "source": []
  }
 ],
 "metadata": {
  "kernelspec": {
   "display_name": "Python 3 (ipykernel)",
   "language": "python",
   "name": "python3"
  },
  "language_info": {
   "codemirror_mode": {
    "name": "ipython",
    "version": 3
   },
   "file_extension": ".py",
   "mimetype": "text/x-python",
   "name": "python",
   "nbconvert_exporter": "python",
   "pygments_lexer": "ipython3",
   "version": "3.12.4"
  }
 },
 "nbformat": 4,
 "nbformat_minor": 5
}
